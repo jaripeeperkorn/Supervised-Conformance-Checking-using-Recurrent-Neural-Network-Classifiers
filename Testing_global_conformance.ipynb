{
 "cells": [
  {
   "cell_type": "code",
   "execution_count": null,
   "metadata": {},
   "outputs": [],
   "source": [
    "import numpy as np\n",
    "import copy\n",
    "\n",
    "import random\n",
    "\n",
    "from py4j.java_gateway import JavaGateway\n",
    "from collections import deque\n",
    "\n",
    "import pad_discriminator_conformance\n",
    "\n",
    "import statistics"
   ]
  },
  {
   "cell_type": "code",
   "execution_count": null,
   "metadata": {},
   "outputs": [],
   "source": [
    "trace1 = ['A', 'B', 'D', 'E', 'I']\n",
    "trace2 = ['A', 'C', 'D', 'G', 'H', 'F', 'I']\n",
    "trace3 = ['A', 'C', 'G', 'D', 'H', 'F', 'I']\n",
    "trace4 = ['A', 'C', 'H', 'D', 'F', 'I']\n",
    "trace5 = ['A', 'C', 'D', 'H', 'F', 'I']\n",
    "\n",
    "\n",
    "traces = [trace1, trace2, trace3, trace4, trace5]\n",
    "frequencies = [1207, 145, 56, 23, 28]\n",
    "\n",
    "GT_log = []\n",
    "for f in range(0, len(frequencies)):\n",
    "    print(traces[f], frequencies[f])\n",
    "    for i in range(0, frequencies[f]):\n",
    "        GT_log.append(traces[f])\n",
    "        \n",
    "random.shuffle(GT_log)"
   ]
  },
  {
   "cell_type": "code",
   "execution_count": null,
   "metadata": {},
   "outputs": [],
   "source": [
    "class OutputGetter(deque):\n",
    "    def appendleft(self, line):\n",
    "        print(line)\n",
    "        super().appendleft(line)\n",
    "        \n",
    "def remove_stuff(log): #removes short traces\n",
    "    #new_log = [i for i in log if len(i) > 5]\n",
    "    new_log = [i for i in log if len(i) > 1]\n",
    "    return new_log\n",
    "    \n",
    "        \n",
    "def remove_plus(dummylog):\n",
    "    newlog = copy.deepcopy(dummylog)\n",
    "    newlog = [[item.replace('+', '') for item in lst] for lst in newlog]\n",
    "    return newlog\n",
    "       \n",
    "def fix_duplicates(dummylog):\n",
    "    newlog = []\n",
    "    for trace in dummylog:\n",
    "        newtrace = trace[::2]\n",
    "        newlog.append(newtrace)\n",
    "    return newlog\n",
    "\n",
    "def check_duplicates(dummylog): #not a good test but just to be sure\n",
    "    if len(dummylog) > 1 and dummylog[0][0] == dummylog[0][1] and dummylog[1][0] == dummylog[1][1]:\n",
    "        return True\n",
    "    elif len(dummylog) == 1 and dummylog[0][0] == dummylog[0][1]:\n",
    "        return True\n",
    "    else:\n",
    "        return False"
   ]
  },
  {
   "cell_type": "code",
   "execution_count": null,
   "metadata": {},
   "outputs": [],
   "source": [
    "def get_model_log(modelfilename, size):\n",
    "    gateway = JavaGateway.launch_gateway(classpath=\"./jars/*\", \n",
    "                                         redirect_stdout=OutputGetter())\n",
    "    petri_and_marking = gateway.jvm.org.processmining.plugins.kutoolbox.utils.ImportUtils.openPetrinet(\n",
    "        gateway.jvm.java.io.File(modelfilename)\n",
    "    )\n",
    "    if not petri_and_marking[1].size():\n",
    "        print(\"Creating initial marking\")\n",
    "        petri_and_marking[1] = gateway.jvm.org.processmining.plugins.kutoolbox.utils.PetrinetUtils. \\\n",
    "            getInitialMarking(petri_and_marking[0])\n",
    "\n",
    "    petri_and_marking[1].size()\n",
    "    settings = gateway.jvm.org.processmining.plugins.loggenerator.utils.GeneratorSettings()\n",
    "    simulator = gateway.jvm.org.processmining.plugins.loggenerator.utils.GeneratorSettings.SimulationAlgorithm\n",
    "\n",
    "    # See https://github.com/Macuyiko/processmining-prom/blob/master/loggenerator/\n",
    "    #             org/processmining/plugins/loggenerator/utils/GeneratorSettings.java\n",
    "\n",
    "    for t in petri_and_marking[0].getTransitions().iterator():\n",
    "        isInvisible = t.getLabel() == \"\" or t.isInvisible()\n",
    "        label = t.getLabel()\n",
    "        isTextInvisible = label.startswith(\"inv_\") or \"$\" in label\n",
    "        mapped = label.replace(\"+complete\", \"\").replace(\"\\\\ncomplete\", \"\").replace(\"\\\\n\", \"\") \\\n",
    "            if not isInvisible and not isTextInvisible else \"\"\n",
    "        arr = gateway.new_array(gateway.jvm.int, 4)\n",
    "        arr[0], arr[1], arr[2], arr[3] = 60, 0, 60, 0\n",
    "        settings.getTransitionNames().put(t, mapped)\n",
    "        settings.getTransitionWeights().put(t, 10)\n",
    "        settings.getTransitionTimings().put(t, arr)\n",
    "        #print(t.getId(), ':', label, '--->', mapped)\n",
    "\n",
    "        settings.setNrTraces(size)\n",
    "        settings.setRandomMinInGroup(1)\n",
    "        settings.setRandomMaxInGroup(1)\n",
    "        settings.setMustReachEnd(True)\n",
    "        settings.setMustConsumeAll(False)\n",
    "        settings.setMaxTimesMarkingSeen(7)\n",
    "\n",
    "        settings.setSimulationMethod(simulator.Random) # Random, Complete, or Distinct\n",
    "\n",
    "        # settings.setRestartAfter(1000)\n",
    "        # settings.setSkipChance(0.85)\n",
    "        # settings.setAlsoConsiderPartial(False)\n",
    "    xlog = gateway.jvm.org.processmining.plugins.loggenerator.PetriNetLogGenerator.generate(\n",
    "        petri_and_marking[0], \n",
    "        petri_and_marking[1], \n",
    "        settings, \n",
    "        #None # or for output: gateway.jvm.org.processmining.plugins.kutoolbox.eventlisteners.PluginEventListenerCLI()\n",
    "        gateway.jvm.org.processmining.plugins.kutoolbox.eventlisteners.PluginEventListenerCLI()\n",
    "    )\n",
    "\n",
    "    temp_log = []\n",
    "    for trace in xlog:\n",
    "        #print([gateway.jvm.org.deckfour.xes.extension.std.XConceptExtension.instance().extractName(e) for e in trace])\n",
    "        temp_log.append([gateway.jvm.org.deckfour.xes.extension.std.XConceptExtension.instance().extractName(e) for e in trace])\n",
    "\n",
    "    model_log = remove_stuff(temp_log)\n",
    "\n",
    "\n",
    "    if check_duplicates(model_log) == True:\n",
    "        print('Fixing duplicates')\n",
    "        model_log = fix_duplicates(model_log)\n",
    "    return(model_log)"
   ]
  },
  {
   "cell_type": "code",
   "execution_count": null,
   "metadata": {},
   "outputs": [],
   "source": [
    "def test2(GT_log, filename, times, modellogsize): #random model log generation\n",
    "    fitness_results1 = []\n",
    "    precision_results1 = []\n",
    "    fitness_results2 = []\n",
    "    precision_results2 = []\n",
    "    \n",
    "    for i in range(0, times):\n",
    "        print(i, \" OUT OF \", times)\n",
    "        model_log = get_model_log(filename, modellogsize)\n",
    "        fitness1, fitness2 = pad_discriminator_conformance.get_distance(GT_log, model_log, \"random\")\n",
    "        precision1, precision2 = pad_discriminator_conformance.get_distance(model_log, GT_log, \"random\")\n",
    "        fitness_results1.append(fitness1)\n",
    "        fitness_results2.append(fitness2)\n",
    "        precision_results1.append(precision1)\n",
    "        precision_results2.append(precision2)\n",
    "    print(\"FITNESS PROB VALUE:\",statistics.median(fitness_results1), statistics.mean(fitness_results1), np.std(fitness_results1))\n",
    "    print(\"FITNESS COUNT VALUE:\",statistics.median(fitness_results2), statistics.mean(fitness_results2), np.std(fitness_results2))\n",
    "    print(\"PREC PROB VALUE:\", statistics.median(precision_results1), statistics.mean(precision_results1), np.std(precision_results1))\n",
    "    print(\"PREC COUNT VALUE:\", statistics.median(precision_results2), statistics.mean(precision_results2), np.std(precision_results2))"
   ]
  },
  {
   "cell_type": "code",
   "execution_count": null,
   "metadata": {},
   "outputs": [],
   "source": [
    "test(GT_log, \"Model1.pnml\", 10, 1500)"
   ]
  },
  {
   "cell_type": "code",
   "execution_count": null,
   "metadata": {},
   "outputs": [],
   "source": [
    "test(GT_log, \"Model2.pnml\", 10, 1500)"
   ]
  },
  {
   "cell_type": "code",
   "execution_count": null,
   "metadata": {},
   "outputs": [],
   "source": [
    "test(GT_log, \"Model3.pnml\", 10, 1500)"
   ]
  },
  {
   "cell_type": "code",
   "execution_count": null,
   "metadata": {},
   "outputs": [],
   "source": [
    "test(GT_log, \"Model4.pnml\", 10, 1500)"
   ]
  },
  {
   "cell_type": "code",
   "execution_count": null,
   "metadata": {},
   "outputs": [],
   "source": [
    "test(GT_log, \"Model5.pnml\", 10, 1500)"
   ]
  },
  {
   "cell_type": "code",
   "execution_count": null,
   "metadata": {},
   "outputs": [],
   "source": [
    "test(GT_log, \"Model6.pnml\", 10, 1500)"
   ]
  },
  {
   "cell_type": "code",
   "execution_count": null,
   "metadata": {},
   "outputs": [],
   "source": [
    "test(GT_log, \"Model7.pnml\", 10, 1500)"
   ]
  },
  {
   "cell_type": "code",
   "execution_count": null,
   "metadata": {},
   "outputs": [],
   "source": [
    "test(GT_log, \"Model8.pnml\", 10, 1500)"
   ]
  },
  {
   "cell_type": "code",
   "execution_count": null,
   "metadata": {},
   "outputs": [],
   "source": [
    "test(GT_log, \"Model9.pnml\", 10, 1500)"
   ]
  },
  {
   "cell_type": "code",
   "execution_count": null,
   "metadata": {},
   "outputs": [],
   "source": [
    "test(GT_log, \"Model10.pnml\", 10, 1500)"
   ]
  },
  {
   "cell_type": "code",
   "execution_count": null,
   "metadata": {},
   "outputs": [],
   "source": [
    "test(GT_log, \"Model11.pnml\", 10, 1500)"
   ]
  },
  {
   "cell_type": "code",
   "execution_count": null,
   "metadata": {},
   "outputs": [],
   "source": [
    "test(GT_log, \"Model_alpha_miner.pnml\", 10, 1500)"
   ]
  },
  {
   "cell_type": "code",
   "execution_count": null,
   "metadata": {},
   "outputs": [],
   "source": [
    "test(GT_log, \"Model_Inductiive_noise0.pnml\", 10, 1500)"
   ]
  },
  {
   "cell_type": "code",
   "execution_count": null,
   "metadata": {},
   "outputs": [],
   "source": [
    "test(GT_log, \"Model_Inductiive_noise0-5.pnml\", 10, 1500)"
   ]
  },
  {
   "cell_type": "code",
   "execution_count": null,
   "metadata": {},
   "outputs": [],
   "source": [
    "test(GT_log, \"Model_Inductiive_noise1.pnml\", 10, 1500)"
   ]
  }
 ],
 "metadata": {
  "kernelspec": {
   "display_name": "Python 3",
   "language": "python",
   "name": "python3"
  },
  "language_info": {
   "codemirror_mode": {
    "name": "ipython",
    "version": 3
   },
   "file_extension": ".py",
   "mimetype": "text/x-python",
   "name": "python",
   "nbconvert_exporter": "python",
   "pygments_lexer": "ipython3",
   "version": "3.7.3"
  }
 },
 "nbformat": 4,
 "nbformat_minor": 2
}
